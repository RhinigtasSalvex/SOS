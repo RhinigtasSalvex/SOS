{
 "cells": [
  {
   "cell_type": "code",
   "execution_count": 4,
   "id": "28820aea",
   "metadata": {},
   "outputs": [],
   "source": [
    "# Read data from Java SOMToolbox\n",
    "import numpy as np\n",
    "from SOMToolBox_Parse import SOMToolBox_Parse\n",
    "'''idata = SOMToolBox_Parse(\"datasets\\\\iris\\\\iris.vec\").read_weight_file()\n",
    "weights = SOMToolBox_Parse(\"datasets\\\\iris\\\\iris.wgt.gz\").read_weight_file()\n",
    "classes = SOMToolBox_Parse(\"datasets\\\\iris\\\\iris.cls\").read_weight_file()'''\n",
    "\n",
    "idata = SOMToolBox_Parse(\"datasets\\\\animals\\\\animals.vec\").read_weight_file()\n",
    "weights = SOMToolBox_Parse(\"datasets\\\\animals\\\\animals.wgt.gz\").read_weight_file()\n",
    "classes = SOMToolBox_Parse(\"datasets\\\\animals\\\\animals.cls\").read_weight_file()\n"
   ]
  },
  {
   "cell_type": "code",
   "execution_count": 8,
   "id": "99c6677b",
   "metadata": {
    "scrolled": false
   },
   "outputs": [],
   "source": [
    "from somtoolbox import SOMToolbox\n",
    "\n",
    "sm = SOMToolbox(weights=weights['arr'],m=weights['ydim'],n=weights['xdim'],\n",
    "                dimension=weights['vec_dim'], input_data=idata['arr'],\n",
    "               classes=classes['arr'], component_names=classes['classes_names'])\n",
    "sm._mainview\n",
    "\n",
    "features = [\"small\", \"medium\", \"big\", \"2_legs\", \"4_legs\", \"hair\", \"hooves\", \"mane\", \"feathers\", \"hunt\", \"run\", \"fly\", \"swim\"]"
   ]
  },
  {
   "cell_type": "code",
   "execution_count": 9,
   "id": "5c6d9d9e",
   "metadata": {},
   "outputs": [
    {
     "data": {},
     "metadata": {},
     "output_type": "display_data"
    },
    {
     "data": {},
     "metadata": {},
     "output_type": "display_data"
    },
    {
     "data": {
      "application/vnd.holoviews_exec.v0+json": "",
      "text/html": [
       "<div id='1297'>\n",
       "\n",
       "\n",
       "\n",
       "\n",
       "\n",
       "  <div class=\"bk-root\" id=\"df5cc57f-2d31-4ead-9189-96664dcb3358\" data-root-id=\"1297\"></div>\n",
       "</div>\n",
       "<script type=\"application/javascript\">(function(root) {\n",
       "  function embed_document(root) {\n",
       "    var docs_json = {\"2c77c8b2-45f9-4bd1-a51c-74acf02b66b9\":{\"defs\":[{\"extends\":null,\"module\":null,\"name\":\"ReactiveHTML1\",\"overrides\":[],\"properties\":[]},{\"extends\":null,\"module\":null,\"name\":\"FlexBox1\",\"overrides\":[],\"properties\":[{\"default\":\"flex-start\",\"kind\":null,\"name\":\"align_content\"},{\"default\":\"flex-start\",\"kind\":null,\"name\":\"align_items\"},{\"default\":\"row\",\"kind\":null,\"name\":\"flex_direction\"},{\"default\":\"wrap\",\"kind\":null,\"name\":\"flex_wrap\"},{\"default\":\"flex-start\",\"kind\":null,\"name\":\"justify_content\"}]},{\"extends\":null,\"module\":null,\"name\":\"TemplateActions1\",\"overrides\":[],\"properties\":[{\"default\":0,\"kind\":null,\"name\":\"open_modal\"},{\"default\":0,\"kind\":null,\"name\":\"close_modal\"}]},{\"extends\":null,\"module\":null,\"name\":\"MaterialTemplateActions1\",\"overrides\":[],\"properties\":[{\"default\":0,\"kind\":null,\"name\":\"open_modal\"},{\"default\":0,\"kind\":null,\"name\":\"close_modal\"}]}],\"roots\":{\"references\":[{\"attributes\":{},\"id\":\"1329\",\"type\":\"PanTool\"},{\"attributes\":{\"margin\":[5,10,5,10],\"name\":\"\",\"text\":\"<b></b>\"},\"id\":\"1301\",\"type\":\"Div\"},{\"attributes\":{\"children\":[{\"id\":\"1301\"},{\"id\":\"1302\"},{\"id\":\"1303\"},{\"id\":\"1304\"},{\"id\":\"1305\"},{\"id\":\"1306\"}],\"margin\":[5,5,5,5],\"min_width\":700,\"name\":\"\",\"width\":700},\"id\":\"1300\",\"type\":\"Row\"},{\"attributes\":{\"axis\":{\"id\":\"1324\"},\"dimension\":1,\"grid_line_color\":null,\"ticker\":null},\"id\":\"1327\",\"type\":\"Grid\"},{\"attributes\":{},\"id\":\"1325\",\"type\":\"BasicTicker\"},{\"attributes\":{\"data\":{\"dh\":[1.0],\"dw\":[1.0],\"image\":[{\"__ndarray__\":\"3iJ0/3Zi2b/o6meoaenUPzRaoknVpMU/Kuefam2iZ78vJUL92NLTP76DhBfkbM4/rVpZuUwO0T8cSEAzHaDBPyetpyAdRM8/kSSpGywo2C1x/u2DgOjUv+iGrUzFr70/DLHFcRmT2b8absFWuAO9v/Ji4Hi9Llw7yf7JaUIUyr+wBGqK/QalPyPAAE+n69K/cbOUaT921j8Gve/5AcjQP+Ee0COlYbg/U88D0h7k07/5wTlC4z7APw7FqeX15ec/hZoexUdF2z8=\",\"dtype\":\"float64\",\"order\":\"little\",\"shape\":[5,5]}],\"x\":[-0.5],\"y\":[-0.5]},\"selected\":{\"id\":\"1348\"},\"selection_policy\":{\"id\":\"1375\"}},\"id\":\"1347\",\"type\":\"ColumnDataSource\"},{\"attributes\":{},\"id\":\"1330\",\"type\":\"WheelZoomTool\"},{\"attributes\":{\"margin\":[5,10,5,10],\"options\":[[\"PiYG\",\"PiYG\"],[\"PRGn\",\"PRGn\"],[\"BrBG\",\"BrBG\"],[\"PuOr\",\"PuOr\"],[\"RdGy\",\"RdGy\"],[\"RdBu\",\"RdBu\"],[\"RdYlBu\",\"RdYlBu\"],[\"RdYlGn\",\"RdYlGn\"],[\"Spectral\",\"Spectral\"],[\"coolwarm\",\"coolwarm\"],[\"bwr\",\"bwr\"],[\"seismic\",\"seismic\"],[\"gist_gray\",\"gist_gray\"],[\"bone\",\"bone\"],[\"pink\",\"pink\"],[\"spring\",\"spring\"],[\"summer\",\"summer\"],[\"autumn\",\"autumn\"],[\"winter\",\"winter\"],[\"cool\",\"cool\"],[\"Wistia\",\"Wistia\"],[\"hot\",\"hot\"],[\"afmhot\",\"afmhot\"],[\"gist_heat\",\"gist_heat\"],[\"copper\",\"copper\"],[\"Greys\",\"Greys\"],[\"Purples\",\"Purples\"],[\"Blues\",\"Blues\"],[\"Greens\",\"Greens\"],[\"Oranges\",\"Oranges\"],[\"Reds\",\"Reds\"],[\"YlOrBr\",\"YlOrBr\"],[\"YlOrRd\",\"YlOrRd\"],[\"OrRd\",\"OrRd\"],[\"PuRd\",\"PuRd\"],[\"RdPu\",\"RdPu\"],[\"BuPu\",\"BuPu\"],[\"GnBu\",\"GnBu\"],[\"PuBu\",\"PuBu\"],[\"YlGnBu\",\"YlGnBu\"],[\"PuBuGn\",\"PuBuGn\"],[\"BuGn\",\"BuGn\"],[\"YlGn\",\"YlGn\"],[\"viridis\",\"viridis\"],[\"plasma\",\"plasma\"],[\"inferno\",\"inferno\"],[\"magma\",\"magma\"],[\"cividis\",\"cividis\"],[\"twilight\",\"twilight\"],[\"twilight_shifted\",\"twilight_shifted\"],[\"hsv\",\"hsv\"],[\"Pastel1\",\"Pastel1\"],[\"Paired\",\"Paired\"],[\"Accent\",\"Accent\"],[\"Dark2\",\"Dark2\"],[\"Set1\",\"Set1\"],[\"Set2\",\"Set2\"],[\"Set3\",\"Set3\"],[\"tab10\",\"tab10\"],[\"tab20\",\"tab20\"],[\"tab20b\",\"tab20b\"],[\"tab20c\",\"tab20c\"],[\"flag\",\"flag\"],[\"prism\",\"prism\"],[\"ocean\",\"ocean\"],[\"gist_earth\",\"gist_earth\"],[\"terrain\",\"terrain\"],[\"gist_stern\",\"gist_stern\"],[\"gnuplot\",\"gnuplot\"],[\"gnuplot2\",\"gnuplot2\"],[\"CMRmap\",\"CMRmap\"],[\"cubehelix\",\"cubehelix\"],[\"brg\",\"brg\"],[\"gist_rainbow\",\"gist_rainbow\"],[\"rainbow\",\"rainbow\"],[\"jet\",\"jet\"],[\"turbo\",\"turbo\"],[\"nipy_spectral\",\"nipy_spectral\"],[\"gist_ncar\",\"gist_ncar\"],[\"glasbey_dark\",\"glasbey_dark\"]],\"value\":\"jet\"},\"id\":\"1303\",\"type\":\"Select\"},{\"attributes\":{\"margin\":[5,10,5,10],\"options\":[[\"0\",\"Component Planes\"],[\"1\",\"Hit Histogram\"],[\"2\",\"U-matrix\"],[\"3\",\"D-Matrix\"],[\"4\",\"P-matrix & U*-matrix\"],[\"5\",\"Smoothed Data Histograms\"],[\"6\",\"Pie Chart\"],[\"7\",\"Neighbourhood Graph\"],[\"8\",\"Chessboard\"],[\"9\",\"Clustering\"],[\"10\",\"Metro Map\"],[\"11\",\"Quantization Error\"],[\"12\",\"Time Series\"]],\"value\":\"0\"},\"id\":\"1302\",\"type\":\"Select\"},{\"attributes\":{\"axis_label\":\"y\",\"formatter\":{\"id\":\"1344\"},\"major_label_policy\":{\"id\":\"1343\"},\"ticker\":{\"id\":\"1325\"}},\"id\":\"1324\",\"type\":\"LinearAxis\"},{\"attributes\":{\"children\":[{\"id\":\"1476\"},{\"id\":\"1479\"}],\"margin\":[0,0,0,0],\"name\":\"\"},\"id\":\"1475\",\"type\":\"Column\"},{\"attributes\":{\"labels\":[\"interpolation\"],\"margin\":[5,10,5,10]},\"id\":\"1306\",\"type\":\"CheckboxGroup\"},{\"attributes\":{},\"id\":\"1328\",\"type\":\"SaveTool\"},{\"attributes\":{},\"id\":\"1340\",\"type\":\"AllLabels\"},{\"attributes\":{},\"id\":\"1341\",\"type\":\"BasicTickFormatter\"},{\"attributes\":{},\"id\":\"1375\",\"type\":\"UnionRenderers\"},{\"attributes\":{\"overlay\":{\"id\":\"1333\"}},\"id\":\"1331\",\"type\":\"BoxZoomTool\"},{\"attributes\":{\"icon\":null,\"label\":\"\\u21a9\",\"margin\":[5,10,5,10],\"subscribed_events\":[\"button_click\"]},\"id\":\"1304\",\"type\":\"Button\"},{\"attributes\":{},\"id\":\"1316\",\"type\":\"LinearScale\"},{\"attributes\":{},\"id\":\"1332\",\"type\":\"ResetTool\"},{\"attributes\":{\"icon\":null,\"label\":\"\\u21aa\",\"margin\":[5,10,5,10],\"subscribed_events\":[\"button_click\"]},\"id\":\"1305\",\"type\":\"Button\"},{\"attributes\":{\"data_source\":{\"id\":\"1358\"},\"glyph\":{\"id\":\"1361\"},\"hover_glyph\":null,\"muted_glyph\":null,\"nonselection_glyph\":{\"id\":\"1362\"},\"selection_glyph\":{\"id\":\"1365\"},\"view\":{\"id\":\"1364\"}},\"id\":\"1363\",\"type\":\"GlyphRenderer\"},{\"attributes\":{\"active_multi\":null,\"tools\":[{\"id\":\"1328\"},{\"id\":\"1329\"},{\"id\":\"1330\"},{\"id\":\"1331\"},{\"id\":\"1332\"}]},\"id\":\"1334\",\"type\":\"Toolbar\"},{\"attributes\":{\"source\":{\"id\":\"1358\"}},\"id\":\"1364\",\"type\":\"CDSView\"},{\"attributes\":{\"children\":[{\"id\":\"1477\"},{\"id\":\"1478\"}],\"margin\":[5,5,5,5],\"min_width\":300,\"name\":\"Component Planes\",\"width\":300},\"id\":\"1476\",\"type\":\"Column\"},{\"attributes\":{\"color_mapper\":{\"id\":\"1346\"},\"dh\":{\"field\":\"dh\"},\"dw\":{\"field\":\"dw\"},\"image\":{\"field\":\"image\"},\"x\":{\"field\":\"x\"},\"y\":{\"field\":\"y\"}},\"id\":\"1356\",\"type\":\"Image\"},{\"attributes\":{\"data_source\":{\"id\":\"1347\"},\"glyph\":{\"id\":\"1350\"},\"hover_glyph\":null,\"muted_glyph\":null,\"nonselection_glyph\":{\"id\":\"1352\"},\"selection_glyph\":{\"id\":\"1356\"},\"view\":{\"id\":\"1355\"}},\"id\":\"1354\",\"type\":\"GlyphRenderer\"},{\"attributes\":{\"children\":[{\"id\":\"1308\"},{\"id\":\"1474\"}],\"margin\":[0,0,0,0],\"name\":\"Row02340\"},\"id\":\"1307\",\"type\":\"Row\"},{\"attributes\":{},\"id\":\"1344\",\"type\":\"BasicTickFormatter\"},{\"attributes\":{\"margin\":[5,10,5,10],\"name\":\"\",\"text\":\"<b>Component Planes</b>\"},\"id\":\"1477\",\"type\":\"Div\"},{\"attributes\":{},\"id\":\"1343\",\"type\":\"AllLabels\"},{\"attributes\":{\"children\":[{\"id\":\"1311\"}],\"margin\":[0,0,0,0],\"name\":\"Column02337\"},\"id\":\"1308\",\"type\":\"Column\"},{\"attributes\":{\"end\":12,\"margin\":[5,10,5,10],\"start\":0,\"title\":\"Component\",\"value\":0},\"id\":\"1478\",\"type\":\"Slider\"},{\"attributes\":{},\"id\":\"1377\",\"type\":\"UnionRenderers\"},{\"attributes\":{\"margin\":[5,5,5,5],\"name\":\"Str02356\",\"text\":\"&lt;pre&gt;Slicing weight vector according it&#x27;s components.&lt;/pre&gt;\"},\"id\":\"1479\",\"type\":\"panel.models.markup.HTML\"},{\"attributes\":{},\"id\":\"1359\",\"type\":\"Selection\"},{\"attributes\":{\"color_mapper\":{\"id\":\"1346\"},\"dh\":{\"field\":\"dh\"},\"dw\":{\"field\":\"dw\"},\"image\":{\"field\":\"image\"},\"x\":{\"field\":\"x\"},\"y\":{\"field\":\"y\"}},\"id\":\"1350\",\"type\":\"Image\"},{\"attributes\":{\"data\":{\"x0\":{\"__ndarray__\":\"\",\"dtype\":\"float64\",\"order\":\"little\",\"shape\":[0]},\"x1\":{\"__ndarray__\":\"\",\"dtype\":\"float64\",\"order\":\"little\",\"shape\":[0]},\"y0\":{\"__ndarray__\":\"\",\"dtype\":\"float64\",\"order\":\"little\",\"shape\":[0]},\"y1\":{\"__ndarray__\":\"\",\"dtype\":\"float64\",\"order\":\"little\",\"shape\":[0]}},\"selected\":{\"id\":\"1359\"},\"selection_policy\":{\"id\":\"1377\"}},\"id\":\"1358\",\"type\":\"ColumnDataSource\"},{\"attributes\":{\"line_color\":{\"value\":\"red\"},\"x0\":{\"field\":\"x0\"},\"x1\":{\"field\":\"x1\"},\"y0\":{\"field\":\"y0\"},\"y1\":{\"field\":\"y1\"}},\"id\":\"1361\",\"type\":\"Segment\"},{\"attributes\":{\"line_alpha\":{\"value\":1.0},\"line_cap\":{\"value\":\"butt\"},\"line_color\":{\"value\":\"red\"},\"line_dash\":{\"value\":[]},\"line_dash_offset\":{\"value\":0},\"line_join\":{\"value\":\"bevel\"},\"line_width\":{\"value\":1},\"x0\":{\"field\":\"x0\"},\"x1\":{\"field\":\"x1\"},\"y0\":{\"field\":\"y0\"},\"y1\":{\"field\":\"y1\"}},\"id\":\"1365\",\"type\":\"Segment\"},{\"attributes\":{\"client_comm_id\":\"cd065cea8d894367b4f11fb4655daf45\",\"comm_id\":\"92b5a5019e1a4b8abda7cc50878cf65b\",\"plot_id\":\"1297\"},\"id\":\"1518\",\"type\":\"panel.models.comm_manager.CommManager\"},{\"attributes\":{\"margin\":[0,0,0,0],\"name\":\"Row02339\"},\"id\":\"1481\",\"type\":\"Row\"},{\"attributes\":{\"bottom_units\":\"screen\",\"fill_alpha\":0.5,\"fill_color\":\"lightgrey\",\"left_units\":\"screen\",\"level\":\"overlay\",\"line_alpha\":1.0,\"line_color\":\"black\",\"line_dash\":[4,4],\"line_width\":2,\"right_units\":\"screen\",\"syncable\":false,\"top_units\":\"screen\"},\"id\":\"1333\",\"type\":\"BoxAnnotation\"},{\"attributes\":{\"end\":0.5,\"reset_end\":0.5,\"reset_start\":-0.5,\"start\":-0.5,\"tags\":[[[\"y\",\"y\",null]]]},\"id\":\"1310\",\"type\":\"Range1d\"},{\"attributes\":{\"source\":{\"id\":\"1347\"}},\"id\":\"1355\",\"type\":\"CDSView\"},{\"attributes\":{\"children\":[{\"id\":\"1298\"},{\"id\":\"1480\"}],\"margin\":[0,0,0,0],\"name\":\"Column02343\"},\"id\":\"1297\",\"type\":\"Column\"},{\"attributes\":{\"below\":[{\"id\":\"1320\"}],\"center\":[{\"id\":\"1323\"},{\"id\":\"1327\"}],\"height\":500,\"left\":[{\"id\":\"1324\"}],\"margin\":[5,5,5,5],\"min_border_bottom\":10,\"min_border_left\":10,\"min_border_right\":10,\"min_border_top\":10,\"renderers\":[{\"id\":\"1354\"},{\"id\":\"1363\"}],\"sizing_mode\":\"fixed\",\"title\":{\"id\":\"1312\"},\"toolbar\":{\"id\":\"1334\"},\"width\":500,\"x_range\":{\"id\":\"1309\"},\"x_scale\":{\"id\":\"1316\"},\"y_range\":{\"id\":\"1310\"},\"y_scale\":{\"id\":\"1318\"}},\"id\":\"1311\",\"subtype\":\"Figure\",\"type\":\"Plot\"},{\"attributes\":{\"high\":0.7468213544472364,\"low\":-0.3996032343918763,\"nan_color\":\"rgba(0, 0, 0, 0)\",\"palette\":[\"#00007f\",\"#000084\",\"#000088\",\"#00008d\",\"#000091\",\"#000096\",\"#00009a\",\"#00009f\",\"#0000a3\",\"#0000a8\",\"#0000ac\",\"#0000b1\",\"#0000b6\",\"#0000ba\",\"#0000bf\",\"#0000c3\",\"#0000c8\",\"#0000cc\",\"#0000d1\",\"#0000d5\",\"#0000da\",\"#0000de\",\"#0000e3\",\"#0000e8\",\"#0000ec\",\"#0000f1\",\"#0000f5\",\"#0000fa\",\"#0000fe\",\"#0000ff\",\"#0000ff\",\"#0000ff\",\"#0000ff\",\"#0004ff\",\"#0008ff\",\"#000cff\",\"#0010ff\",\"#0014ff\",\"#0018ff\",\"#001cff\",\"#0020ff\",\"#0024ff\",\"#0028ff\",\"#002cff\",\"#0030ff\",\"#0034ff\",\"#0038ff\",\"#003cff\",\"#0040ff\",\"#0044ff\",\"#0048ff\",\"#004cff\",\"#0050ff\",\"#0054ff\",\"#0058ff\",\"#005cff\",\"#0060ff\",\"#0064ff\",\"#0068ff\",\"#006cff\",\"#0070ff\",\"#0074ff\",\"#0078ff\",\"#007cff\",\"#0080ff\",\"#0084ff\",\"#0088ff\",\"#008cff\",\"#0090ff\",\"#0094ff\",\"#0098ff\",\"#009cff\",\"#00a0ff\",\"#00a4ff\",\"#00a8ff\",\"#00acff\",\"#00b0ff\",\"#00b4ff\",\"#00b8ff\",\"#00bcff\",\"#00c0ff\",\"#00c4ff\",\"#00c8ff\",\"#00ccff\",\"#00d0ff\",\"#00d4ff\",\"#00d8ff\",\"#00dcfe\",\"#00e0fa\",\"#00e4f7\",\"#02e8f4\",\"#05ecf1\",\"#08f0ed\",\"#0cf4ea\",\"#0ff8e7\",\"#12fce4\",\"#15ffe1\",\"#18ffdd\",\"#1cffda\",\"#1fffd7\",\"#22ffd4\",\"#25ffd0\",\"#29ffcd\",\"#2cffca\",\"#2fffc7\",\"#32ffc3\",\"#36ffc0\",\"#39ffbd\",\"#3cffba\",\"#3fffb7\",\"#42ffb3\",\"#46ffb0\",\"#49ffad\",\"#4cffaa\",\"#4fffa6\",\"#53ffa3\",\"#56ffa0\",\"#59ff9d\",\"#5cff9a\",\"#5fff96\",\"#63ff93\",\"#66ff90\",\"#69ff8d\",\"#6cff89\",\"#70ff86\",\"#73ff83\",\"#76ff80\",\"#79ff7d\",\"#7cff79\",\"#80ff76\",\"#83ff73\",\"#86ff70\",\"#89ff6c\",\"#8dff69\",\"#90ff66\",\"#93ff63\",\"#96ff5f\",\"#9aff5c\",\"#9dff59\",\"#a0ff56\",\"#a3ff53\",\"#a6ff4f\",\"#aaff4c\",\"#adff49\",\"#b0ff46\",\"#b3ff42\",\"#b7ff3f\",\"#baff3c\",\"#bdff39\",\"#c0ff36\",\"#c3ff32\",\"#c7ff2f\",\"#caff2c\",\"#cdff29\",\"#d0ff25\",\"#d4ff22\",\"#d7ff1f\",\"#daff1c\",\"#ddff18\",\"#e0ff15\",\"#e4ff12\",\"#e7ff0f\",\"#eaff0c\",\"#edff08\",\"#f1fc05\",\"#f4f802\",\"#f7f400\",\"#faf000\",\"#feed00\",\"#ffe900\",\"#ffe500\",\"#ffe200\",\"#ffde00\",\"#ffda00\",\"#ffd700\",\"#ffd300\",\"#ffcf00\",\"#ffcb00\",\"#ffc800\",\"#ffc400\",\"#ffc000\",\"#ffbd00\",\"#ffb900\",\"#ffb500\",\"#ffb100\",\"#ffae00\",\"#ffaa00\",\"#ffa600\",\"#ffa300\",\"#ff9f00\",\"#ff9b00\",\"#ff9800\",\"#ff9400\",\"#ff9000\",\"#ff8c00\",\"#ff8900\",\"#ff8500\",\"#ff8100\",\"#ff7e00\",\"#ff7a00\",\"#ff7600\",\"#ff7300\",\"#ff6f00\",\"#ff6b00\",\"#ff6700\",\"#ff6400\",\"#ff6000\",\"#ff5c00\",\"#ff5900\",\"#ff5500\",\"#ff5100\",\"#ff4d00\",\"#ff4a00\",\"#ff4600\",\"#ff4200\",\"#ff3f00\",\"#ff3b00\",\"#ff3700\",\"#ff3400\",\"#ff3000\",\"#ff2c00\",\"#ff2800\",\"#ff2500\",\"#ff2100\",\"#ff1d00\",\"#ff1a00\",\"#ff1600\",\"#fe1200\",\"#fa0f00\",\"#f50b00\",\"#f10700\",\"#ec0300\",\"#e80000\",\"#e30000\",\"#de0000\",\"#da0000\",\"#d50000\",\"#d10000\",\"#cc0000\",\"#c80000\",\"#c30000\",\"#bf0000\",\"#ba0000\",\"#b60000\",\"#b10000\",\"#ac0000\",\"#a80000\",\"#a30000\",\"#9f0000\",\"#9a0000\",\"#960000\",\"#910000\",\"#8d0000\",\"#880000\",\"#840000\",\"#7f0000\"]},\"id\":\"1346\",\"type\":\"LinearColorMapper\"},{\"attributes\":{},\"id\":\"1318\",\"type\":\"LinearScale\"},{\"attributes\":{\"line_alpha\":{\"value\":0.1},\"line_color\":{\"value\":\"red\"},\"x0\":{\"field\":\"x0\"},\"x1\":{\"field\":\"x1\"},\"y0\":{\"field\":\"y0\"},\"y1\":{\"field\":\"y1\"}},\"id\":\"1362\",\"type\":\"Segment\"},{\"attributes\":{},\"id\":\"1348\",\"type\":\"Selection\"},{\"attributes\":{\"color_mapper\":{\"id\":\"1346\"},\"dh\":{\"field\":\"dh\"},\"dw\":{\"field\":\"dw\"},\"global_alpha\":0.1,\"image\":{\"field\":\"image\"},\"x\":{\"field\":\"x\"},\"y\":{\"field\":\"y\"}},\"id\":\"1352\",\"type\":\"Image\"},{\"attributes\":{\"children\":[{\"id\":\"1481\"}],\"margin\":[0,0,0,0],\"name\":\"Column02342\"},\"id\":\"1480\",\"type\":\"Column\"},{\"attributes\":{\"text_color\":\"black\",\"text_font_size\":\"12pt\"},\"id\":\"1312\",\"type\":\"Title\"},{\"attributes\":{\"children\":[{\"id\":\"1475\"}],\"margin\":[0,0,0,0],\"name\":\"Row02338\"},\"id\":\"1474\",\"type\":\"Row\"},{\"attributes\":{\"axis\":{\"id\":\"1320\"},\"grid_line_color\":null,\"ticker\":null},\"id\":\"1323\",\"type\":\"Grid\"},{\"attributes\":{\"end\":0.5,\"reset_end\":0.5,\"reset_start\":-0.5,\"start\":-0.5,\"tags\":[[[\"x\",\"x\",null]]]},\"id\":\"1309\",\"type\":\"Range1d\"},{\"attributes\":{\"children\":[{\"id\":\"1299\"},{\"id\":\"1307\"}],\"margin\":[0,0,0,0],\"name\":\"Column02341\"},\"id\":\"1298\",\"type\":\"Column\"},{\"attributes\":{},\"id\":\"1321\",\"type\":\"BasicTicker\"},{\"attributes\":{\"axis_label\":\"x\",\"formatter\":{\"id\":\"1341\"},\"major_label_policy\":{\"id\":\"1340\"},\"ticker\":{\"id\":\"1321\"}},\"id\":\"1320\",\"type\":\"LinearAxis\"},{\"attributes\":{\"children\":[{\"id\":\"1300\"}],\"margin\":[0,0,0,0],\"name\":\"Column02316\"},\"id\":\"1299\",\"type\":\"Column\"}],\"root_ids\":[\"1297\",\"1518\"]},\"title\":\"Bokeh Application\",\"version\":\"2.3.2\"}};\n",
       "    var render_items = [{\"docid\":\"2c77c8b2-45f9-4bd1-a51c-74acf02b66b9\",\"root_ids\":[\"1297\"],\"roots\":{\"1297\":\"df5cc57f-2d31-4ead-9189-96664dcb3358\"}}];\n",
       "    root.Bokeh.embed.embed_items_notebook(docs_json, render_items);\n",
       "  }\n",
       "  if (root.Bokeh !== undefined && root.Bokeh.Panel !== undefined) {\n",
       "    embed_document(root);\n",
       "  } else {\n",
       "    var attempts = 0;\n",
       "    var timer = setInterval(function(root) {\n",
       "      if (root.Bokeh !== undefined && root.Bokeh.Panel !== undefined) {\n",
       "        clearInterval(timer);\n",
       "        embed_document(root);\n",
       "      } else if (document.readyState == \"complete\") {\n",
       "        attempts++;\n",
       "        if (attempts > 200) {\n",
       "          clearInterval(timer);\n",
       "          console.log(\"Bokeh: ERROR: Unable to run BokehJS code because BokehJS library is missing\");\n",
       "        }\n",
       "      }\n",
       "    }, 25, root)\n",
       "  }\n",
       "})(window);</script>"
      ],
      "text/plain": [
       "Column\n",
       "    [0] Column\n",
       "        [0] Column\n",
       "            [0] Row(margin=5, width=700)\n",
       "                [0] StaticText(value='<b></b>')\n",
       "                [1] Select(options=OrderedDict([('Component P...]), value=0)\n",
       "                [2] Select(options=OrderedDict([('PiYG', ...]), value='jet')\n",
       "                [3] Button(name='↩')\n",
       "                [4] Button(name='↪')\n",
       "                [5] Checkbox(name='interpolation')\n",
       "        [1] Row\n",
       "            [0] Column\n",
       "                [0] HoloViews(DynamicMap)\n",
       "            [1] Row\n",
       "                [0] Column\n",
       "                    [0] Column(margin=5, name='Component Planes', width=300)\n",
       "                        [0] StaticText(value='<b>Component Planes</b>')\n",
       "                        [1] IntSlider(end=12, name='Component')\n",
       "                    [1] Str(str)\n",
       "    [1] Column\n",
       "        [0] Row()"
      ]
     },
     "execution_count": 9,
     "metadata": {
      "application/vnd.holoviews_exec.v0+json": {
       "id": "1297"
      }
     },
     "output_type": "execute_result"
    }
   ],
   "source": [
    "# Use any library for training SOM map (e.x. MiniSOM, SOMOClu, SOMpy, PopSOM etc.)\n",
    "from somtoolbox import SOMToolbox\n",
    "from minisom import MiniSom    \n",
    "\n",
    "\n",
    "som = MiniSom(5, 5, 13, sigma=0.3, learning_rate=0.6)\n",
    "data = idata['arr']\n",
    "som.train(data, 10000)\n",
    "\n",
    "sm = SOMToolbox(weights=som._weights.reshape(-1, 13), m=5, n=5, dimension=13, input_data=data)\n",
    "sm._mainview"
   ]
  },
  {
   "cell_type": "code",
   "execution_count": 10,
   "id": "47a95e1c",
   "metadata": {},
   "outputs": [
    {
     "name": "stdout",
     "output_type": "stream",
     "text": [
      "5\n",
      "defaultdict(<class 'list'>, {(0, 3): [array([1., 0., 0., 1., 0., 0., 0., 0., 1., 0., 0., 1., 0.]), array([1., 0., 0., 1., 0., 0., 0., 0., 1., 0., 0., 0., 0.]), array([1., 0., 0., 1., 0., 0., 0., 0., 1., 0., 0., 0., 1.]), array([1., 0., 0., 1., 0., 0., 0., 0., 1., 0., 0., 1., 1.]), array([1., 0., 0., 1., 0., 0., 0., 0., 1., 1., 0., 1., 0.]), array([1., 0., 0., 1., 0., 0., 0., 0., 1., 1., 0., 1., 0.]), array([0., 1., 0., 1., 0., 0., 0., 0., 1., 1., 0., 1., 0.])], (2, 4): [array([0., 1., 0., 0., 1., 1., 0., 0., 0., 1., 0., 0., 0.]), array([0., 1., 0., 0., 1., 1., 0., 0., 0., 0., 1., 0., 0.]), array([0., 1., 0., 0., 1., 1., 0., 0., 0., 1., 1., 0., 0.])], (1, 4): [array([1., 0., 0., 0., 1., 1., 0., 0., 0., 1., 0., 0., 0.]), array([0., 0., 1., 0., 1., 1., 0., 0., 0., 1., 1., 0., 0.]), array([0., 0., 1., 0., 1., 1., 0., 1., 0., 1., 1., 0., 0.])], (3, 4): [array([0., 0., 1., 0., 1., 1., 1., 1., 0., 0., 1., 0., 0.]), array([0., 0., 1., 0., 1., 1., 1., 1., 0., 0., 1., 0., 0.]), array([0., 0., 1., 0., 1., 1., 1., 0., 0., 0., 0., 0., 0.])]})\n"
     ]
    }
   ],
   "source": [
    "print(len(som.get_weights()))\n",
    "print(som.win_map(data))\n"
   ]
  },
  {
   "cell_type": "code",
   "execution_count": 21,
   "id": "fd22dbfe",
   "metadata": {},
   "outputs": [
    {
     "name": "stdout",
     "output_type": "stream",
     "text": [
      "defaultdict(<class 'list'>, {(0, 3): [0, 1, 2, 3, 4, 5, 6], (2, 4): [7, 8, 9], (1, 4): [10, 11, 12], (3, 4): [13, 14, 15]})\n"
     ]
    }
   ],
   "source": [
    "mapped_info = som.win_map(data,return_indices=True)"
   ]
  },
  {
   "cell_type": "code",
   "execution_count": 30,
   "id": "965859c1",
   "metadata": {},
   "outputs": [
    {
     "name": "stdout",
     "output_type": "stream",
     "text": [
      "0\n"
     ]
    }
   ],
   "source": [
    "from collections import defaultdict\n",
    "our_features = []\n",
    "data = idata['arr']\n",
    "weights = som.get_weights()\n",
    "\n",
    "def def_value():\n",
    "    return 0\n",
    "\n",
    "featuresPlot = defaultdict(def_value)\n",
    "\n",
    "for i in range(0,5):\n",
    "    for j in range(0,5):\n",
    "        error = np.zeros(13)\n",
    "        for field in mapped_info[i,j]:\n",
    "            error += np.abs(data[field]-weights[i][j])\n",
    "        if(np.sum(error) > 0):\n",
    "            featuresPlot[(i,j)] = features[np.argmin(error)]\n",
    "print(featuresPlot[0,1])"
   ]
  },
  {
   "cell_type": "code",
   "execution_count": 35,
   "id": "6ebfd09c",
   "metadata": {},
   "outputs": [
    {
     "data": {
      "image/png": "[encoded data removed]",
      "text/plain": [
       "<Figure size 432x288 with 1 Axes>"
      ]
     },
     "metadata": {
      "needs_background": "light"
     },
     "output_type": "display_data"
    }
   ],
   "source": [
    "import matplotlib\n",
    "import matplotlib.pyplot as plt\n",
    "\n",
    "fig = plt.figure()\n",
    "ax = fig.add_subplot()\n",
    "fig.subplots_adjust(top=0.85)\n",
    "\n",
    "# Set titles for the figure and the subplot respectively\n",
    "ax.set_title('axes title')\n",
    "\n",
    "ax.set_xlabel('xlabel')\n",
    "ax.set_ylabel('ylabel')\n",
    "\n",
    "# Set both x- and y-axis limits to [0, 10] instead of default [0, 1]\n",
    "ax.axis([0, 5, 0, 5])\n",
    "\n",
    "for i in range(0,5):\n",
    "    for j in range(0,5):\n",
    "        ax.text(i, j, featuresPlot[i,j])\n",
    "plt.grid()\n",
    "plt.show()"
   ]
  },
  {
   "cell_type": "code",
   "execution_count": null,
   "id": "57eb41ba",
   "metadata": {},
   "outputs": [],
   "source": []
  },
  {
   "cell_type": "code",
   "execution_count": null,
   "id": "3a2ab9a6",
   "metadata": {},
   "outputs": [],
   "source": []
  }
 ],
 "metadata": {
  "kernelspec": {
   "display_name": "Python 3",
   "language": "python",
   "name": "python3"
  },
  "language_info": {
   "codemirror_mode": {
    "name": "ipython",
    "version": 3
   },
   "file_extension": ".py",
   "mimetype": "text/x-python",
   "name": "python",
   "nbconvert_exporter": "python",
   "pygments_lexer": "ipython3",
   "version": "3.8.8"
  }
 },
 "nbformat": 4,
 "nbformat_minor": 5
}
